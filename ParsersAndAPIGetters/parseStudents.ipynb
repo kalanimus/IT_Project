{
 "cells": [
  {
   "cell_type": "code",
   "execution_count": 1,
   "metadata": {},
   "outputs": [],
   "source": [
    "from selenium import webdriver\n",
    "from selenium.webdriver.common.by import By\n",
    "from selenium.webdriver.support.ui import WebDriverWait\n",
    "from selenium.webdriver.support import expected_conditions as EC\n",
    "from bs4 import BeautifulSoup\n",
    "import csv\n",
    "import time\n",
    "import psycopg2\n",
    "from tqdm import tqdm\n",
    "from psycopg2 import sql"
   ]
  },
  {
   "cell_type": "code",
   "execution_count": null,
   "metadata": {},
   "outputs": [],
   "source": [
    "login_url=\"https://proxy.bmstu.ru:8443/cas/login?service=https%3A%2F%2Fproxy.bmstu.ru%3A8443%2Fcas%2Foauth2.0%2FcallbackAuthorize%3Fclient_name%3DCasOAuthClient%26client_id%3DEU\"\n",
    "target_url=\"https://eu.bmstu.ru/modules/progress3/\"\n",
    "username=\"\" # Ввести логин от KAS\n",
    "password=\"\" # Ввести пароль от KAS\n",
    "output_file='groups.csv'\n",
    "\n",
    "db_config = {\n",
    "    'host': 'localhost',\n",
    "    'database': 'KALM_Db2',\n",
    "    'user': 'postgres',\n",
    "    'password': '6257',\n",
    "    'port': '5432'\n",
    "}"
   ]
  },
  {
   "cell_type": "code",
   "execution_count": 3,
   "metadata": {},
   "outputs": [],
   "source": [
    "# 1. Настройка Selenium\n",
    "options = webdriver.ChromeOptions()\n",
    "options.add_argument('--headless')  # Режим без отображения браузера\n",
    "options.add_argument('--disable-gpu')\n",
    "options.add_argument('--no-sandbox')\n",
    "options.add_argument('user-agent=Mozilla/5.0 (Windows NT 10.0; Win64; x64) AppleWebKit/537.36 (KHTML, like Gecko) Chrome/120.0.0.0 Safari/537.36')"
   ]
  },
  {
   "cell_type": "code",
   "execution_count": 5,
   "metadata": {},
   "outputs": [
    {
     "name": "stderr",
     "output_type": "stream",
     "text": [
      "Получение групп: 100%|██████████| 2663/2663 [00:00<00:00, 78305.59it/s]\n",
      "Получение студентов: 100%|██████████| 1563/1563 [17:47<00:00,  1.46it/s]\n"
     ]
    },
    {
     "name": "stdout",
     "output_type": "stream",
     "text": [
      "Успешно сохранено 1563 групп в groups.csv\n"
     ]
    }
   ],
   "source": [
    "driver = webdriver.Chrome(options=options)\n",
    "\n",
    "try:\n",
    "  conn = psycopg2.connect(**db_config)\n",
    "  cursor = conn.cursor()\n",
    "  \n",
    "  # 2. Авторизация\n",
    "  driver.get(login_url)\n",
    "  \n",
    "  # Ждем появления полей ввода\n",
    "  WebDriverWait(driver, 10).until(\n",
    "      EC.presence_of_element_located((By.NAME, \"username\"))\n",
    "  ).send_keys(username)\n",
    "  \n",
    "  driver.find_element(By.NAME, \"password\").send_keys(password)\n",
    "  \n",
    "  # Нажимаем кнопку входа (адаптируйте селектор под ваш сайт)\n",
    "  driver.find_element(By.NAME, 'submit').click()\n",
    "  time.sleep(3)  # Ждем загрузки\n",
    "  \n",
    "  # 3. Проверка успешной авторизации\n",
    "  if \"login\" in driver.current_url.lower():\n",
    "    raise Exception(\"Ошибка авторизации! Проверьте логин/пароль.\")\n",
    "  \n",
    "  # 4. Переход на целевую страницу\n",
    "  driver.get(target_url)\n",
    "  WebDriverWait(driver, 10).until(\n",
    "    EC.presence_of_element_located((By.CLASS_NAME, \"eu-tree-leaf\")))\n",
    "  \n",
    "  # 5. Парсинг данных\n",
    "  soup = BeautifulSoup(driver.page_source, 'html.parser')\n",
    "  groups = []\n",
    "  \n",
    "  for leaf in tqdm(soup.find_all('li', class_='eu-tree-leaf'), desc='Получение групп'):\n",
    "    link = leaf.find('a')\n",
    "    if link:\n",
    "      groups.append({\n",
    "        'Группа': link.get_text(strip=True),\n",
    "        'Ссылка': link.get('href')\n",
    "      })\n",
    "\n",
    "  cursor.execute(\"\"\"SELECT DISTINCT \"Group_Name\" FROM public.\"Groups\";\"\"\")\n",
    "  \n",
    "  db_groups = {row[0] for row in cursor.fetchall()}\n",
    "        \n",
    "  # Фильтрация групп\n",
    "  filtered_groups = [\n",
    "      group for group in groups \n",
    "      if group['Группа'] in db_groups\n",
    "  ]\n",
    "  \n",
    "  with open('students.csv', 'w', newline='', encoding='utf-8') as f:\n",
    "    writer = csv.DictWriter(f, fieldnames=['Группа', 'ФИО', 'Номер_зачетки'])\n",
    "    writer.writeheader()\n",
    "\n",
    "    for group in tqdm(filtered_groups, desc='Получение студентов'):\n",
    "      driver.get('https://eu.bmstu.ru' + group['Ссылка'])\n",
    "      WebDriverWait(driver, 10).until(\n",
    "        EC.presence_of_element_located((By.TAG_NAME, \"tbody\")))\n",
    "      \n",
    "      table = driver.find_element(By.CLASS_NAME, 'progress_students').find_element(By.TAG_NAME, 'tbody')\n",
    "      table_html = table.get_attribute(\"innerHTML\")\n",
    "      \n",
    "      soup = BeautifulSoup(table_html, 'html.parser')\n",
    "      students = []\n",
    "      \n",
    "      for row in soup.find_all('tr'):\n",
    "        if ('tr-disabled' in row.get('class', [])):\n",
    "          continue\n",
    "        if row:\n",
    "          writer.writerow({\n",
    "            'Группа': group['Группа'],\n",
    "            'ФИО': ' '.join(row.find('span', class_ = 'fio_3').get_text(strip=True).split()),\n",
    "            'Номер_зачетки': row.find('td', class_ = 'hc3').get_text(strip=True)\n",
    "          })\n",
    "  \n",
    "  # 6. Сохранение в CSV\n",
    "  with open(output_file, 'w', newline='', encoding='utf-8') as f:\n",
    "    writer = csv.DictWriter(f, fieldnames=['Группа', 'Ссылка'])\n",
    "    writer.writeheader()\n",
    "    writer.writerows(filtered_groups)\n",
    "  \n",
    "  print(f\"Успешно сохранено {len(filtered_groups)} групп в {output_file}\")\n",
    "  \n",
    "except Exception as e:\n",
    "  print(f\"Ошибка: {str(e)}\")\n",
    "\n",
    "finally:\n",
    "  driver.quit()"
   ]
  },
  {
   "cell_type": "code",
   "execution_count": null,
   "metadata": {},
   "outputs": [],
   "source": []
  }
 ],
 "metadata": {
  "kernelspec": {
   "display_name": "Python 3",
   "language": "python",
   "name": "python3"
  },
  "language_info": {
   "codemirror_mode": {
    "name": "ipython",
    "version": 3
   },
   "file_extension": ".py",
   "mimetype": "text/x-python",
   "name": "python",
   "nbconvert_exporter": "python",
   "pygments_lexer": "ipython3",
   "version": "3.12.6"
  }
 },
 "nbformat": 4,
 "nbformat_minor": 2
}
